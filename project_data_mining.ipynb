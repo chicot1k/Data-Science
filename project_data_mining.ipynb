{
  "nbformat": 4,
  "nbformat_minor": 0,
  "metadata": {
    "colab": {
      "provenance": []
    },
    "kernelspec": {
      "name": "python3",
      "display_name": "Python 3"
    },
    "language_info": {
      "name": "python"
    }
  },
  "cells": [
    {
      "cell_type": "markdown",
      "source": [
        "# Отчет по индивидуальному заданию:\n",
        "\n",
        "### «Линейный и нелинейный классификаторы Байеса. Сравнение показателей качества (точность, чувствительность, специфичность и пр. для случая двух классов)»\n",
        "\n",
        "по предмету «Data mining».\n",
        "\n",
        "Преподаватель: Седаков Артем Александрович\n",
        "\n",
        "Выполнили:\n",
        "\n",
        "Янн Александр, группа 19.Б02-ПУ\n",
        "\n",
        "Мнацаканян Анаит, группа 19.Б02-ПУ\n",
        "\n"
      ],
      "metadata": {
        "id": "C7Rieeh_3h9a"
      }
    },
    {
      "cell_type": "code",
      "execution_count": null,
      "metadata": {
        "id": "2eDB8Kt92NN-"
      },
      "outputs": [],
      "source": [
        "import pandas as pd\n",
        "from sklearn. model_selection import train_test_split\n",
        "from sklearn. model_selection import RepeatedStratifiedKFold\n",
        "from sklearn. model_selection import cross_val_score\n",
        "from sklearn. discriminant_analysis import LinearDiscriminantAnalysis\n",
        "from sklearn. discriminant_analysis import QuadraticDiscriminantAnalysis\n",
        "from sklearn import datasets\n",
        "import matplotlib.pyplot as plt\n",
        "import pandas as pd\n",
        "import numpy as np\n",
        "import sklearn as sk"
      ]
    },
    {
      "cell_type": "markdown",
      "source": [
        "Байесовский подход к классификации основан на приниципе максимума апостериорной вероятности.\n",
        "\n",
        "Вычислим априорные вероятности как долю объектов класса в обучающей выборке.\n",
        "\n",
        "В нашем случае нам не известны плотности распределения для классов, поэтому сначала мы должны их восстановить. Линейный и квадратичный дискриминантный анализ, который реализован в нашем проекте требует параметрического восстановления плотности классов.\n",
        "\n",
        "Для линейного дискриминантного анализа делается предположение о равенсвте ковариационных матриц"
      ],
      "metadata": {
        "id": "KYlX64LsV5OL"
      }
    },
    {
      "cell_type": "code",
      "source": [
        "df = pd.read_excel('/content/pm2.xlsx')\n",
        "df = df.query('positions == \"professor\" or positions == \"associate professor\"')"
      ],
      "metadata": {
        "id": "Y5obmTYh2hQi"
      },
      "execution_count": null,
      "outputs": []
    },
    {
      "cell_type": "markdown",
      "source": [
        "Признаки : количество публикаций, грантов, заявок и проектов\n",
        "\n",
        "Классы: профессор, доцент"
      ],
      "metadata": {
        "id": "qQhczfGssH6Y"
      }
    },
    {
      "cell_type": "code",
      "source": [
        "df.positions.unique()"
      ],
      "metadata": {
        "colab": {
          "base_uri": "https://localhost:8080/"
        },
        "id": "HNvaL3rY9L71",
        "outputId": "73332993-7a76-4221-af75-7604842202c4"
      },
      "execution_count": null,
      "outputs": [
        {
          "output_type": "execute_result",
          "data": {
            "text/plain": [
              "array(['professor', 'associate professor'], dtype=object)"
            ]
          },
          "metadata": {},
          "execution_count": 3
        }
      ]
    },
    {
      "cell_type": "code",
      "source": [
        "X = df[['publications', 'applications', 'grants','projects']]\n",
        "y = df['positions']"
      ],
      "metadata": {
        "id": "mVjv09nIOphM"
      },
      "execution_count": null,
      "outputs": []
    },
    {
      "cell_type": "code",
      "source": [
        "X.corr()"
      ],
      "metadata": {
        "colab": {
          "base_uri": "https://localhost:8080/",
          "height": 175
        },
        "id": "DRguDgLNOQxh",
        "outputId": "b45b2813-3121-425d-d89f-43e1e8fd1034"
      },
      "execution_count": null,
      "outputs": [
        {
          "output_type": "execute_result",
          "data": {
            "text/plain": [
              "              publications  applications    grants  projects\n",
              "publications      1.000000      0.349417  0.391275  0.268556\n",
              "applications      0.349417      1.000000  0.627810  0.622005\n",
              "grants            0.391275      0.627810  1.000000  0.850731\n",
              "projects          0.268556      0.622005  0.850731  1.000000"
            ],
            "text/html": [
              "\n",
              "  <div id=\"df-e5f576d9-020d-4448-8e9f-2371ea6c8e37\">\n",
              "    <div class=\"colab-df-container\">\n",
              "      <div>\n",
              "<style scoped>\n",
              "    .dataframe tbody tr th:only-of-type {\n",
              "        vertical-align: middle;\n",
              "    }\n",
              "\n",
              "    .dataframe tbody tr th {\n",
              "        vertical-align: top;\n",
              "    }\n",
              "\n",
              "    .dataframe thead th {\n",
              "        text-align: right;\n",
              "    }\n",
              "</style>\n",
              "<table border=\"1\" class=\"dataframe\">\n",
              "  <thead>\n",
              "    <tr style=\"text-align: right;\">\n",
              "      <th></th>\n",
              "      <th>publications</th>\n",
              "      <th>applications</th>\n",
              "      <th>grants</th>\n",
              "      <th>projects</th>\n",
              "    </tr>\n",
              "  </thead>\n",
              "  <tbody>\n",
              "    <tr>\n",
              "      <th>publications</th>\n",
              "      <td>1.000000</td>\n",
              "      <td>0.349417</td>\n",
              "      <td>0.391275</td>\n",
              "      <td>0.268556</td>\n",
              "    </tr>\n",
              "    <tr>\n",
              "      <th>applications</th>\n",
              "      <td>0.349417</td>\n",
              "      <td>1.000000</td>\n",
              "      <td>0.627810</td>\n",
              "      <td>0.622005</td>\n",
              "    </tr>\n",
              "    <tr>\n",
              "      <th>grants</th>\n",
              "      <td>0.391275</td>\n",
              "      <td>0.627810</td>\n",
              "      <td>1.000000</td>\n",
              "      <td>0.850731</td>\n",
              "    </tr>\n",
              "    <tr>\n",
              "      <th>projects</th>\n",
              "      <td>0.268556</td>\n",
              "      <td>0.622005</td>\n",
              "      <td>0.850731</td>\n",
              "      <td>1.000000</td>\n",
              "    </tr>\n",
              "  </tbody>\n",
              "</table>\n",
              "</div>\n",
              "      <button class=\"colab-df-convert\" onclick=\"convertToInteractive('df-e5f576d9-020d-4448-8e9f-2371ea6c8e37')\"\n",
              "              title=\"Convert this dataframe to an interactive table.\"\n",
              "              style=\"display:none;\">\n",
              "        \n",
              "  <svg xmlns=\"http://www.w3.org/2000/svg\" height=\"24px\"viewBox=\"0 0 24 24\"\n",
              "       width=\"24px\">\n",
              "    <path d=\"M0 0h24v24H0V0z\" fill=\"none\"/>\n",
              "    <path d=\"M18.56 5.44l.94 2.06.94-2.06 2.06-.94-2.06-.94-.94-2.06-.94 2.06-2.06.94zm-11 1L8.5 8.5l.94-2.06 2.06-.94-2.06-.94L8.5 2.5l-.94 2.06-2.06.94zm10 10l.94 2.06.94-2.06 2.06-.94-2.06-.94-.94-2.06-.94 2.06-2.06.94z\"/><path d=\"M17.41 7.96l-1.37-1.37c-.4-.4-.92-.59-1.43-.59-.52 0-1.04.2-1.43.59L10.3 9.45l-7.72 7.72c-.78.78-.78 2.05 0 2.83L4 21.41c.39.39.9.59 1.41.59.51 0 1.02-.2 1.41-.59l7.78-7.78 2.81-2.81c.8-.78.8-2.07 0-2.86zM5.41 20L4 18.59l7.72-7.72 1.47 1.35L5.41 20z\"/>\n",
              "  </svg>\n",
              "      </button>\n",
              "      \n",
              "  <style>\n",
              "    .colab-df-container {\n",
              "      display:flex;\n",
              "      flex-wrap:wrap;\n",
              "      gap: 12px;\n",
              "    }\n",
              "\n",
              "    .colab-df-convert {\n",
              "      background-color: #E8F0FE;\n",
              "      border: none;\n",
              "      border-radius: 50%;\n",
              "      cursor: pointer;\n",
              "      display: none;\n",
              "      fill: #1967D2;\n",
              "      height: 32px;\n",
              "      padding: 0 0 0 0;\n",
              "      width: 32px;\n",
              "    }\n",
              "\n",
              "    .colab-df-convert:hover {\n",
              "      background-color: #E2EBFA;\n",
              "      box-shadow: 0px 1px 2px rgba(60, 64, 67, 0.3), 0px 1px 3px 1px rgba(60, 64, 67, 0.15);\n",
              "      fill: #174EA6;\n",
              "    }\n",
              "\n",
              "    [theme=dark] .colab-df-convert {\n",
              "      background-color: #3B4455;\n",
              "      fill: #D2E3FC;\n",
              "    }\n",
              "\n",
              "    [theme=dark] .colab-df-convert:hover {\n",
              "      background-color: #434B5C;\n",
              "      box-shadow: 0px 1px 3px 1px rgba(0, 0, 0, 0.15);\n",
              "      filter: drop-shadow(0px 1px 2px rgba(0, 0, 0, 0.3));\n",
              "      fill: #FFFFFF;\n",
              "    }\n",
              "  </style>\n",
              "\n",
              "      <script>\n",
              "        const buttonEl =\n",
              "          document.querySelector('#df-e5f576d9-020d-4448-8e9f-2371ea6c8e37 button.colab-df-convert');\n",
              "        buttonEl.style.display =\n",
              "          google.colab.kernel.accessAllowed ? 'block' : 'none';\n",
              "\n",
              "        async function convertToInteractive(key) {\n",
              "          const element = document.querySelector('#df-e5f576d9-020d-4448-8e9f-2371ea6c8e37');\n",
              "          const dataTable =\n",
              "            await google.colab.kernel.invokeFunction('convertToInteractive',\n",
              "                                                     [key], {});\n",
              "          if (!dataTable) return;\n",
              "\n",
              "          const docLinkHtml = 'Like what you see? Visit the ' +\n",
              "            '<a target=\"_blank\" href=https://colab.research.google.com/notebooks/data_table.ipynb>data table notebook</a>'\n",
              "            + ' to learn more about interactive tables.';\n",
              "          element.innerHTML = '';\n",
              "          dataTable['output_type'] = 'display_data';\n",
              "          await google.colab.output.renderOutput(dataTable, element);\n",
              "          const docLink = document.createElement('div');\n",
              "          docLink.innerHTML = docLinkHtml;\n",
              "          element.appendChild(docLink);\n",
              "        }\n",
              "      </script>\n",
              "    </div>\n",
              "  </div>\n",
              "  "
            ]
          },
          "metadata": {},
          "execution_count": 7
        }
      ]
    },
    {
      "cell_type": "markdown",
      "source": [
        " Чтобы избавиться от мультиколлинеарности уберем признак \"проекты\""
      ],
      "metadata": {
        "id": "RKggUYhjb6sZ"
      }
    },
    {
      "cell_type": "code",
      "source": [
        "X = df[['publications', 'applications', 'grants']]\n",
        "y = df['positions']"
      ],
      "metadata": {
        "id": "chW6C2n24r_e"
      },
      "execution_count": null,
      "outputs": []
    },
    {
      "cell_type": "code",
      "source": [
        "X.corr()"
      ],
      "metadata": {
        "colab": {
          "base_uri": "https://localhost:8080/",
          "height": 143
        },
        "id": "08LDBllMOvMf",
        "outputId": "fcb37486-0374-4120-df55-d09ded5b3991"
      },
      "execution_count": null,
      "outputs": [
        {
          "output_type": "execute_result",
          "data": {
            "text/plain": [
              "              publications  applications    grants\n",
              "publications      1.000000      0.349417  0.391275\n",
              "applications      0.349417      1.000000  0.627810\n",
              "grants            0.391275      0.627810  1.000000"
            ],
            "text/html": [
              "\n",
              "  <div id=\"df-adf56e3d-5cd3-42c1-bed3-f1436eef6f0c\">\n",
              "    <div class=\"colab-df-container\">\n",
              "      <div>\n",
              "<style scoped>\n",
              "    .dataframe tbody tr th:only-of-type {\n",
              "        vertical-align: middle;\n",
              "    }\n",
              "\n",
              "    .dataframe tbody tr th {\n",
              "        vertical-align: top;\n",
              "    }\n",
              "\n",
              "    .dataframe thead th {\n",
              "        text-align: right;\n",
              "    }\n",
              "</style>\n",
              "<table border=\"1\" class=\"dataframe\">\n",
              "  <thead>\n",
              "    <tr style=\"text-align: right;\">\n",
              "      <th></th>\n",
              "      <th>publications</th>\n",
              "      <th>applications</th>\n",
              "      <th>grants</th>\n",
              "    </tr>\n",
              "  </thead>\n",
              "  <tbody>\n",
              "    <tr>\n",
              "      <th>publications</th>\n",
              "      <td>1.000000</td>\n",
              "      <td>0.349417</td>\n",
              "      <td>0.391275</td>\n",
              "    </tr>\n",
              "    <tr>\n",
              "      <th>applications</th>\n",
              "      <td>0.349417</td>\n",
              "      <td>1.000000</td>\n",
              "      <td>0.627810</td>\n",
              "    </tr>\n",
              "    <tr>\n",
              "      <th>grants</th>\n",
              "      <td>0.391275</td>\n",
              "      <td>0.627810</td>\n",
              "      <td>1.000000</td>\n",
              "    </tr>\n",
              "  </tbody>\n",
              "</table>\n",
              "</div>\n",
              "      <button class=\"colab-df-convert\" onclick=\"convertToInteractive('df-adf56e3d-5cd3-42c1-bed3-f1436eef6f0c')\"\n",
              "              title=\"Convert this dataframe to an interactive table.\"\n",
              "              style=\"display:none;\">\n",
              "        \n",
              "  <svg xmlns=\"http://www.w3.org/2000/svg\" height=\"24px\"viewBox=\"0 0 24 24\"\n",
              "       width=\"24px\">\n",
              "    <path d=\"M0 0h24v24H0V0z\" fill=\"none\"/>\n",
              "    <path d=\"M18.56 5.44l.94 2.06.94-2.06 2.06-.94-2.06-.94-.94-2.06-.94 2.06-2.06.94zm-11 1L8.5 8.5l.94-2.06 2.06-.94-2.06-.94L8.5 2.5l-.94 2.06-2.06.94zm10 10l.94 2.06.94-2.06 2.06-.94-2.06-.94-.94-2.06-.94 2.06-2.06.94z\"/><path d=\"M17.41 7.96l-1.37-1.37c-.4-.4-.92-.59-1.43-.59-.52 0-1.04.2-1.43.59L10.3 9.45l-7.72 7.72c-.78.78-.78 2.05 0 2.83L4 21.41c.39.39.9.59 1.41.59.51 0 1.02-.2 1.41-.59l7.78-7.78 2.81-2.81c.8-.78.8-2.07 0-2.86zM5.41 20L4 18.59l7.72-7.72 1.47 1.35L5.41 20z\"/>\n",
              "  </svg>\n",
              "      </button>\n",
              "      \n",
              "  <style>\n",
              "    .colab-df-container {\n",
              "      display:flex;\n",
              "      flex-wrap:wrap;\n",
              "      gap: 12px;\n",
              "    }\n",
              "\n",
              "    .colab-df-convert {\n",
              "      background-color: #E8F0FE;\n",
              "      border: none;\n",
              "      border-radius: 50%;\n",
              "      cursor: pointer;\n",
              "      display: none;\n",
              "      fill: #1967D2;\n",
              "      height: 32px;\n",
              "      padding: 0 0 0 0;\n",
              "      width: 32px;\n",
              "    }\n",
              "\n",
              "    .colab-df-convert:hover {\n",
              "      background-color: #E2EBFA;\n",
              "      box-shadow: 0px 1px 2px rgba(60, 64, 67, 0.3), 0px 1px 3px 1px rgba(60, 64, 67, 0.15);\n",
              "      fill: #174EA6;\n",
              "    }\n",
              "\n",
              "    [theme=dark] .colab-df-convert {\n",
              "      background-color: #3B4455;\n",
              "      fill: #D2E3FC;\n",
              "    }\n",
              "\n",
              "    [theme=dark] .colab-df-convert:hover {\n",
              "      background-color: #434B5C;\n",
              "      box-shadow: 0px 1px 3px 1px rgba(0, 0, 0, 0.15);\n",
              "      filter: drop-shadow(0px 1px 2px rgba(0, 0, 0, 0.3));\n",
              "      fill: #FFFFFF;\n",
              "    }\n",
              "  </style>\n",
              "\n",
              "      <script>\n",
              "        const buttonEl =\n",
              "          document.querySelector('#df-adf56e3d-5cd3-42c1-bed3-f1436eef6f0c button.colab-df-convert');\n",
              "        buttonEl.style.display =\n",
              "          google.colab.kernel.accessAllowed ? 'block' : 'none';\n",
              "\n",
              "        async function convertToInteractive(key) {\n",
              "          const element = document.querySelector('#df-adf56e3d-5cd3-42c1-bed3-f1436eef6f0c');\n",
              "          const dataTable =\n",
              "            await google.colab.kernel.invokeFunction('convertToInteractive',\n",
              "                                                     [key], {});\n",
              "          if (!dataTable) return;\n",
              "\n",
              "          const docLinkHtml = 'Like what you see? Visit the ' +\n",
              "            '<a target=\"_blank\" href=https://colab.research.google.com/notebooks/data_table.ipynb>data table notebook</a>'\n",
              "            + ' to learn more about interactive tables.';\n",
              "          element.innerHTML = '';\n",
              "          dataTable['output_type'] = 'display_data';\n",
              "          await google.colab.output.renderOutput(dataTable, element);\n",
              "          const docLink = document.createElement('div');\n",
              "          docLink.innerHTML = docLinkHtml;\n",
              "          element.appendChild(docLink);\n",
              "        }\n",
              "      </script>\n",
              "    </div>\n",
              "  </div>\n",
              "  "
            ]
          },
          "metadata": {},
          "execution_count": 9
        }
      ]
    },
    {
      "cell_type": "markdown",
      "source": [
        "Будем пользоваться методам LDA(линейный дискриминантный анализ) и QDA(квадратичный дискриминантный анализ) из библиотеки sklearn"
      ],
      "metadata": {
        "id": "0_rIKdccdEXJ"
      }
    },
    {
      "cell_type": "code",
      "source": [
        " modelLDA = LinearDiscriminantAnalysis(solver = 'svd')\n",
        "modelLDA.fit(X, y)\n",
        "modelQDA = QuadraticDiscriminantAnalysis()\n",
        "modelQDA.fit(X, y)"
      ],
      "metadata": {
        "colab": {
          "base_uri": "https://localhost:8080/",
          "height": 75
        },
        "id": "LLiJX2NFIDwv",
        "outputId": "8e269cba-546e-47fa-e0cb-f73c7121f171"
      },
      "execution_count": null,
      "outputs": [
        {
          "output_type": "execute_result",
          "data": {
            "text/plain": [
              "QuadraticDiscriminantAnalysis()"
            ],
            "text/html": [
              "<style>#sk-container-id-1 {color: black;background-color: white;}#sk-container-id-1 pre{padding: 0;}#sk-container-id-1 div.sk-toggleable {background-color: white;}#sk-container-id-1 label.sk-toggleable__label {cursor: pointer;display: block;width: 100%;margin-bottom: 0;padding: 0.3em;box-sizing: border-box;text-align: center;}#sk-container-id-1 label.sk-toggleable__label-arrow:before {content: \"▸\";float: left;margin-right: 0.25em;color: #696969;}#sk-container-id-1 label.sk-toggleable__label-arrow:hover:before {color: black;}#sk-container-id-1 div.sk-estimator:hover label.sk-toggleable__label-arrow:before {color: black;}#sk-container-id-1 div.sk-toggleable__content {max-height: 0;max-width: 0;overflow: hidden;text-align: left;background-color: #f0f8ff;}#sk-container-id-1 div.sk-toggleable__content pre {margin: 0.2em;color: black;border-radius: 0.25em;background-color: #f0f8ff;}#sk-container-id-1 input.sk-toggleable__control:checked~div.sk-toggleable__content {max-height: 200px;max-width: 100%;overflow: auto;}#sk-container-id-1 input.sk-toggleable__control:checked~label.sk-toggleable__label-arrow:before {content: \"▾\";}#sk-container-id-1 div.sk-estimator input.sk-toggleable__control:checked~label.sk-toggleable__label {background-color: #d4ebff;}#sk-container-id-1 div.sk-label input.sk-toggleable__control:checked~label.sk-toggleable__label {background-color: #d4ebff;}#sk-container-id-1 input.sk-hidden--visually {border: 0;clip: rect(1px 1px 1px 1px);clip: rect(1px, 1px, 1px, 1px);height: 1px;margin: -1px;overflow: hidden;padding: 0;position: absolute;width: 1px;}#sk-container-id-1 div.sk-estimator {font-family: monospace;background-color: #f0f8ff;border: 1px dotted black;border-radius: 0.25em;box-sizing: border-box;margin-bottom: 0.5em;}#sk-container-id-1 div.sk-estimator:hover {background-color: #d4ebff;}#sk-container-id-1 div.sk-parallel-item::after {content: \"\";width: 100%;border-bottom: 1px solid gray;flex-grow: 1;}#sk-container-id-1 div.sk-label:hover label.sk-toggleable__label {background-color: #d4ebff;}#sk-container-id-1 div.sk-serial::before {content: \"\";position: absolute;border-left: 1px solid gray;box-sizing: border-box;top: 0;bottom: 0;left: 50%;z-index: 0;}#sk-container-id-1 div.sk-serial {display: flex;flex-direction: column;align-items: center;background-color: white;padding-right: 0.2em;padding-left: 0.2em;position: relative;}#sk-container-id-1 div.sk-item {position: relative;z-index: 1;}#sk-container-id-1 div.sk-parallel {display: flex;align-items: stretch;justify-content: center;background-color: white;position: relative;}#sk-container-id-1 div.sk-item::before, #sk-container-id-1 div.sk-parallel-item::before {content: \"\";position: absolute;border-left: 1px solid gray;box-sizing: border-box;top: 0;bottom: 0;left: 50%;z-index: -1;}#sk-container-id-1 div.sk-parallel-item {display: flex;flex-direction: column;z-index: 1;position: relative;background-color: white;}#sk-container-id-1 div.sk-parallel-item:first-child::after {align-self: flex-end;width: 50%;}#sk-container-id-1 div.sk-parallel-item:last-child::after {align-self: flex-start;width: 50%;}#sk-container-id-1 div.sk-parallel-item:only-child::after {width: 0;}#sk-container-id-1 div.sk-dashed-wrapped {border: 1px dashed gray;margin: 0 0.4em 0.5em 0.4em;box-sizing: border-box;padding-bottom: 0.4em;background-color: white;}#sk-container-id-1 div.sk-label label {font-family: monospace;font-weight: bold;display: inline-block;line-height: 1.2em;}#sk-container-id-1 div.sk-label-container {text-align: center;}#sk-container-id-1 div.sk-container {/* jupyter's `normalize.less` sets `[hidden] { display: none; }` but bootstrap.min.css set `[hidden] { display: none !important; }` so we also need the `!important` here to be able to override the default hidden behavior on the sphinx rendered scikit-learn.org. See: https://github.com/scikit-learn/scikit-learn/issues/21755 */display: inline-block !important;position: relative;}#sk-container-id-1 div.sk-text-repr-fallback {display: none;}</style><div id=\"sk-container-id-1\" class=\"sk-top-container\"><div class=\"sk-text-repr-fallback\"><pre>QuadraticDiscriminantAnalysis()</pre><b>In a Jupyter environment, please rerun this cell to show the HTML representation or trust the notebook. <br />On GitHub, the HTML representation is unable to render, please try loading this page with nbviewer.org.</b></div><div class=\"sk-container\" hidden><div class=\"sk-item\"><div class=\"sk-estimator sk-toggleable\"><input class=\"sk-toggleable__control sk-hidden--visually\" id=\"sk-estimator-id-1\" type=\"checkbox\" checked><label for=\"sk-estimator-id-1\" class=\"sk-toggleable__label sk-toggleable__label-arrow\">QuadraticDiscriminantAnalysis</label><div class=\"sk-toggleable__content\"><pre>QuadraticDiscriminantAnalysis()</pre></div></div></div></div></div>"
            ]
          },
          "metadata": {},
          "execution_count": 6
        }
      ]
    },
    {
      "cell_type": "code",
      "source": [
        "modelLDA.covariance_()"
      ],
      "metadata": {
        "colab": {
          "base_uri": "https://localhost:8080/",
          "height": 169
        },
        "id": "dAO-IxzTmp00",
        "outputId": "d650fad4-4311-4ada-b8ec-1d728c68913f"
      },
      "execution_count": null,
      "outputs": [
        {
          "output_type": "error",
          "ename": "AttributeError",
          "evalue": "ignored",
          "traceback": [
            "\u001b[0;31m---------------------------------------------------------------------------\u001b[0m",
            "\u001b[0;31mAttributeError\u001b[0m                            Traceback (most recent call last)",
            "\u001b[0;32m<ipython-input-9-bf84a63d0d66>\u001b[0m in \u001b[0;36m<cell line: 1>\u001b[0;34m()\u001b[0m\n\u001b[0;32m----> 1\u001b[0;31m \u001b[0mmodelLDA\u001b[0m\u001b[0;34m.\u001b[0m\u001b[0mcovariance_\u001b[0m\u001b[0;34m(\u001b[0m\u001b[0;34m)\u001b[0m\u001b[0;34m\u001b[0m\u001b[0;34m\u001b[0m\u001b[0m\n\u001b[0m",
            "\u001b[0;31mAttributeError\u001b[0m: 'LinearDiscriminantAnalysis' object has no attribute 'covariance_'"
          ]
        }
      ]
    },
    {
      "cell_type": "markdown",
      "source": [
        "Оценим точность моделей, используя кросс - валидацию.\n",
        "\n",
        "Основная идея состоит в том, что мы случайный образом перемешиваем данные  и разбиваем всю нашу выборку на $k$ групп.\n",
        "\n",
        "Каждую из $k$ групп случаным образом делим на данных для обучения и для тестирования"
      ],
      "metadata": {
        "id": "l4r2-NWcfY0S"
      }
    },
    {
      "cell_type": "code",
      "source": [
        "cv = RepeatedStratifiedKFold(n_splits= 10 , n_repeats= 3)\n",
        "scores = cross_val_score(modelLDA, X, y, scoring='accuracy', cv=cv, n_jobs=-1)\n",
        "print(np.mean(scores))"
      ],
      "metadata": {
        "colab": {
          "base_uri": "https://localhost:8080/"
        },
        "id": "g8af6jr949a0",
        "outputId": "777e1375-a5c6-4094-874b-b9d9d95c6ade"
      },
      "execution_count": null,
      "outputs": [
        {
          "output_type": "stream",
          "name": "stdout",
          "text": [
            "0.6923076923076924\n"
          ]
        }
      ]
    },
    {
      "cell_type": "code",
      "source": [
        "cv = RepeatedStratifiedKFold(n_splits= 10 , n_repeats= 3)\n",
        "scores = cross_val_score(modelQDA, X, y, scoring='accuracy', cv=cv, n_jobs=-1)\n",
        "print(np.mean(scores))"
      ],
      "metadata": {
        "colab": {
          "base_uri": "https://localhost:8080/"
        },
        "id": "4p1znmhSQT_w",
        "outputId": "b27fe595-939f-46b4-b4bf-4a49d6ba74e6"
      },
      "execution_count": null,
      "outputs": [
        {
          "output_type": "stream",
          "name": "stdout",
          "text": [
            "0.7031135531135533\n"
          ]
        }
      ]
    },
    {
      "cell_type": "code",
      "source": [
        "df_t = pd.DataFrame(modelLDA.predict(X) == y)\n",
        "df_t.value_counts().head(1)/131"
      ],
      "metadata": {
        "colab": {
          "base_uri": "https://localhost:8080/"
        },
        "id": "yvFTnepFDA09",
        "outputId": "595acea3-ee9a-4954-d5e1-aa6817054605"
      },
      "execution_count": null,
      "outputs": [
        {
          "output_type": "execute_result",
          "data": {
            "text/plain": [
              "positions\n",
              "True         0.694656\n",
              "dtype: float64"
            ]
          },
          "metadata": {},
          "execution_count": 8
        }
      ]
    },
    {
      "cell_type": "code",
      "source": [
        "new = [67,27,34]\n",
        "print(modelLDA.predict([new]))"
      ],
      "metadata": {
        "colab": {
          "base_uri": "https://localhost:8080/"
        },
        "id": "4aVz80AK5CBm",
        "outputId": "6851e2a6-13ab-4571-a3c4-2858959a893c"
      },
      "execution_count": null,
      "outputs": [
        {
          "output_type": "stream",
          "name": "stdout",
          "text": [
            "['associate professor']\n"
          ]
        },
        {
          "output_type": "stream",
          "name": "stderr",
          "text": [
            "/usr/local/lib/python3.9/dist-packages/sklearn/base.py:439: UserWarning: X does not have valid feature names, but LinearDiscriminantAnalysis was fitted with feature names\n",
            "  warnings.warn(\n"
          ]
        }
      ]
    },
    {
      "cell_type": "code",
      "source": [
        "fig = plt.figure()\n",
        "ax = fig.add_subplot(111, projection='3d')\n",
        "colors = ['red', 'green']\n",
        "data_plot = pd.concat([X,y], axis = 1)\n",
        "for color, i, target_name in zip(colors, df.positions.unique().tolist(), df.positions.unique().tolist()):\n",
        " ax.scatter(data_plot[data_plot.positions == i]['publications'].tolist(), data_plot[data_plot.positions == i]['applications'].tolist(),data_plot[data_plot.positions == i]['grants'].tolist(), color=color,\n",
        " label=target_name)\n",
        "plt.legend(loc='best', shadow= False , scatterpoints=1)\n",
        "u, v = np.meshgrid(np.linspace(0, 600, 1000), np.linspace(0, 50, 100))\n",
        "z = u * modelLDA.coef_[0][0]/modelLDA.coef_[0][2] - v * modelLDA.coef_[0][1]/modelLDA.coef_[0][2] + modelLDA.intercept_/modelLDA.coef_[0][2]\n",
        "ax.plot_surface(u, v, z)\n",
        "plt.show()"
      ],
      "metadata": {
        "colab": {
          "base_uri": "https://localhost:8080/",
          "height": 414
        },
        "id": "CY6XrHP55WEq",
        "outputId": "a72f8bff-a8b4-4c80-9959-d703c69239b6"
      },
      "execution_count": null,
      "outputs": [
        {
          "output_type": "display_data",
          "data": {
            "text/plain": [
              "<Figure size 640x480 with 1 Axes>"
            ],
            "image/png": "[encoded data removed]"
          },
          "metadata": {}
        }
      ]
    },
    {
      "cell_type": "code",
      "source": [
        "df_full = pd.concat([X,y],axis = 1)"
      ],
      "metadata": {
        "id": "b2h29iBkRYmj"
      },
      "execution_count": null,
      "outputs": []
    },
    {
      "cell_type": "code",
      "source": [
        "df_prof = df_full.query('positions == \"professor\"').reset_index(drop = True)"
      ],
      "metadata": {
        "id": "P-SVg6TSgjvH"
      },
      "execution_count": null,
      "outputs": []
    },
    {
      "cell_type": "code",
      "source": [
        "df_ass = df_full.query('positions == \"associate professor\"').reset_index(drop = True)"
      ],
      "metadata": {
        "id": "zBJfqfpWrhd6"
      },
      "execution_count": null,
      "outputs": []
    },
    {
      "cell_type": "code",
      "source": [
        "X_prof = df_prof[['publications','applications','grants']]\n",
        "X_ass = df_ass[['publications','applications','grants']]\n",
        "Tprof = sum(modelLDA.predict(X_ass) != 'associate professor')"
      ],
      "metadata": {
        "id": "uOAc0ynFsexF"
      },
      "execution_count": null,
      "outputs": []
    },
    {
      "cell_type": "code",
      "source": [
        "y_pred = modelLDA.predict(X)"
      ],
      "metadata": {
        "id": "PpcHqaDRUJaG"
      },
      "execution_count": null,
      "outputs": []
    },
    {
      "cell_type": "markdown",
      "source": [
        "\n",
        "$$\n",
        "precision = \\frac{TP}{TP+FP}\n",
        "$$\n",
        "\n",
        "*Точность* - доля объектов, названных положительными и при этом являющихся положительными. Позволяет избежать ситуации, когда все объекты будут относиться классификатором к одному классу, так как в этом случае растет *FP*\n",
        "\n",
        "$$\n",
        "$$\n",
        "\n",
        "$$\n",
        "specify  = \\frac{TN}{TN+FP}\n",
        "$$\n",
        " *Специфичность* -  доля верно классифицированных негативных объектов к общему числу негативных\n",
        " $$\n",
        " $$\n",
        "\n",
        " $$\n",
        "recall = \\frac{TP}{TP+FN}\n",
        "$$\n",
        " *Полнота* - доля найденных положительных объектов класса от общего количества положительных. Чем выше значение, тем меньше положительных объектов было пропущено\n",
        " $$\n",
        " $$\n",
        "\n",
        "$$\n",
        "F_{1} = \\frac{2}{1/\\mathrm{precision}+1/\\mathrm{recall}} = 2\\frac{\\mathrm{precision} \\times \\mathrm{recall}}{\\mathrm{precision} + \\mathrm{recall}} = \\frac{TP}{TP+\\frac{FN+FP}{2}}\n",
        "$$\n",
        "\n",
        "*F-мера* - взвешенно гармоническое среднее полноты и точности. Отражает сколько случаев будет спрогнозировано верно и сколько истинных объектов классификатор не пропустит"
      ],
      "metadata": {
        "id": "CRYstQC5Z4IZ"
      }
    },
    {
      "cell_type": "code",
      "source": [
        "from sklearn.metrics import confusion_matrix\n",
        "mat = confusion_matrix(y, y_pred)"
      ],
      "metadata": {
        "id": "bHqMbM56U9A9"
      },
      "execution_count": null,
      "outputs": []
    },
    {
      "cell_type": "code",
      "source": [
        "import seaborn as sns\n",
        "sns.heatmap(mat.T, square=True, annot=True, fmt='d',\n",
        "            cbar=False, xticklabels=[0, 1], yticklabels=[0, 1])\n",
        "plt.xlabel('true label')\n",
        "plt.ylabel('predicted label');"
      ],
      "metadata": {
        "colab": {
          "base_uri": "https://localhost:8080/",
          "height": 449
        },
        "id": "sDaQnDs9VCH0",
        "outputId": "8316a1f8-3c18-4077-d6fb-57eb262e3d1b"
      },
      "execution_count": null,
      "outputs": [
        {
          "output_type": "display_data",
          "data": {
            "text/plain": [
              "<Figure size 640x480 with 1 Axes>"
            ],
            "image/png": "[encoded data removed]"
          },
          "metadata": {}
        }
      ]
    },
    {
      "cell_type": "markdown",
      "source": [
        "СЛУЧАЙ ЕСЛИ ПОЗИТИВ  - ПРОФЕССОР"
      ],
      "metadata": {
        "id": "nVN-F5qGZA5Y"
      }
    },
    {
      "cell_type": "code",
      "source": [
        "from sklearn.metrics import precision_score, recall_score, f1_score\n",
        "ps = precision_score(y, y_pred, labels = ['associate professor', 'professor'],  pos_label='professor')\n",
        "rs = recall_score(y, y_pred, labels = ['associate professor', 'professor'],  pos_label='professor')\n",
        "f1s = f1_score(y, y_pred, labels = ['associate professor', 'professor'],  pos_label='professor')\n",
        "print('precision score = {}'.format(ps))\n",
        "print('recall score = {}'.format(rs))\n",
        "print('F1 score = {}'.format(f1s.round(2)))"
      ],
      "metadata": {
        "colab": {
          "base_uri": "https://localhost:8080/"
        },
        "id": "rUrtsHzMWio-",
        "outputId": "46c00be4-5119-4dc6-dac2-6120e78dc858"
      },
      "execution_count": null,
      "outputs": [
        {
          "output_type": "stream",
          "name": "stdout",
          "text": [
            "precision score = 0.75\n",
            "recall score = 0.3\n",
            "F1 score = 0.43\n"
          ]
        }
      ]
    },
    {
      "cell_type": "code",
      "source": [
        "Tprof = mat[1][1]\n",
        "Tass = mat[0][0]\n",
        "Fprof = mat[0][1]\n",
        "Fass = mat[1][0]"
      ],
      "metadata": {
        "id": "CI8jp1cAVE_I"
      },
      "execution_count": null,
      "outputs": []
    },
    {
      "cell_type": "code",
      "source": [
        "#специфичность\n",
        "Tass / (Tass + Fprof)"
      ],
      "metadata": {
        "colab": {
          "base_uri": "https://localhost:8080/"
        },
        "id": "h6ct3ARPWCWs",
        "outputId": "5e7de847-3581-4844-e682-149b17df40f7"
      },
      "execution_count": null,
      "outputs": [
        {
          "output_type": "execute_result",
          "data": {
            "text/plain": [
              "0.9382716049382716"
            ]
          },
          "metadata": {},
          "execution_count": 27
        }
      ]
    },
    {
      "cell_type": "markdown",
      "source": [
        "СЛУЧАЙ ЕСЛИ ПОЗИТИВ  - ДОЦЕНТ"
      ],
      "metadata": {
        "id": "-hzo2pPPY7Wq"
      }
    },
    {
      "cell_type": "code",
      "source": [
        "from sklearn.metrics import precision_score, recall_score, f1_score\n",
        "ps = precision_score(y, y_pred, labels = ['associate professor', 'professor'],  pos_label='associate professor')\n",
        "rs = recall_score(y, y_pred, labels = ['associate professor', 'professor'],  pos_label='associate professor')\n",
        "f1s = f1_score(y, y_pred, labels = ['associate professor', 'professor'],  pos_label='associate professor')\n",
        "print('precision score = {}'.format(ps))\n",
        "print('recall score = {}'.format(rs))\n",
        "print('F1 score = {}'.format(f1s.round(2)))"
      ],
      "metadata": {
        "colab": {
          "base_uri": "https://localhost:8080/"
        },
        "id": "GYstZcdWXn-E",
        "outputId": "e2218171-87be-436c-a4da-5a3abea713c1"
      },
      "execution_count": null,
      "outputs": [
        {
          "output_type": "stream",
          "name": "stdout",
          "text": [
            "precision score = 0.6846846846846847\n",
            "recall score = 0.9382716049382716\n",
            "F1 score = 0.79\n"
          ]
        }
      ]
    },
    {
      "cell_type": "code",
      "source": [
        "#специфичность\n",
        "Tprof / (Tprof + Fass)"
      ],
      "metadata": {
        "colab": {
          "base_uri": "https://localhost:8080/"
        },
        "id": "GnP5CUGqZHQm",
        "outputId": "97b7bf9e-1d72-443a-94b7-6bbb90e62e84"
      },
      "execution_count": null,
      "outputs": [
        {
          "output_type": "execute_result",
          "data": {
            "text/plain": [
              "0.3"
            ]
          },
          "metadata": {},
          "execution_count": 29
        }
      ]
    },
    {
      "cell_type": "markdown",
      "source": [
        "QDA\n"
      ],
      "metadata": {
        "id": "RCvfjwDoaYua"
      }
    },
    {
      "cell_type": "code",
      "source": [
        "y_pred = modelQDA.predict(X)\n",
        "from sklearn.metrics import confusion_matrix\n",
        "mat = confusion_matrix(y, y_pred)"
      ],
      "metadata": {
        "id": "vUSyD4ahZMiM"
      },
      "execution_count": null,
      "outputs": []
    },
    {
      "cell_type": "code",
      "source": [
        "sns.heatmap(mat.T, square=True, annot=True, fmt='d',\n",
        "            cbar=False, xticklabels=[0, 1], yticklabels=[0, 1])\n",
        "plt.xlabel('true label')\n",
        "plt.ylabel('predicted label');"
      ],
      "metadata": {
        "colab": {
          "base_uri": "https://localhost:8080/",
          "height": 449
        },
        "id": "pBAfXtIzaikw",
        "outputId": "74f7e09b-13f7-4c9a-d1fb-f180142f0590"
      },
      "execution_count": null,
      "outputs": [
        {
          "output_type": "display_data",
          "data": {
            "text/plain": [
              "<Figure size 640x480 with 1 Axes>"
            ],
            "image/png": "[encoded data removed]"
          },
          "metadata": {}
        }
      ]
    },
    {
      "cell_type": "markdown",
      "source": [
        "СЛУЧАЙ ЕСЛИ ПОЗИТИВ - ПРОФЕССОР"
      ],
      "metadata": {
        "id": "8zi5AOygaqoo"
      }
    },
    {
      "cell_type": "code",
      "source": [
        "from sklearn.metrics import precision_score, recall_score, f1_score\n",
        "ps = precision_score(y, y_pred, labels = ['associate professor', 'professor'],  pos_label='professor')\n",
        "rs = recall_score(y, y_pred, labels = ['associate professor', 'professor'],  pos_label='professor')\n",
        "f1s = f1_score(y, y_pred, labels = ['associate professor', 'professor'],  pos_label='professor')\n",
        "print('precision score = {}'.format(ps))\n",
        "print('recall score = {}'.format(rs))\n",
        "print('F1 score = {}'.format(f1s.round(2)))"
      ],
      "metadata": {
        "colab": {
          "base_uri": "https://localhost:8080/"
        },
        "id": "mFdybNjaat_Y",
        "outputId": "a6c88cb2-1eb1-4799-f4c8-c474dbfa1871"
      },
      "execution_count": null,
      "outputs": [
        {
          "output_type": "stream",
          "name": "stdout",
          "text": [
            "precision score = 0.75\n",
            "recall score = 0.36\n",
            "F1 score = 0.49\n"
          ]
        }
      ]
    },
    {
      "cell_type": "code",
      "source": [
        "Tprof = mat[1][1]\n",
        "Tass = mat[0][0]\n",
        "Fprof = mat[0][1]\n",
        "Fass = mat[1][0]\n",
        "#специфичность\n",
        "Tass / (Tass + Fprof)"
      ],
      "metadata": {
        "colab": {
          "base_uri": "https://localhost:8080/"
        },
        "id": "K00bifVJauja",
        "outputId": "eab5c550-3842-45b0-f9b2-d5f46b3ba5c6"
      },
      "execution_count": null,
      "outputs": [
        {
          "output_type": "execute_result",
          "data": {
            "text/plain": [
              "0.9259259259259259"
            ]
          },
          "metadata": {},
          "execution_count": 33
        }
      ]
    },
    {
      "cell_type": "markdown",
      "source": [
        "СЛУЧАЙ ЕСЛИ ПОЗИТИВ - ДОЦЕНТ"
      ],
      "metadata": {
        "id": "mEGoisO-a2Wf"
      }
    },
    {
      "cell_type": "code",
      "source": [
        "from sklearn.metrics import precision_score, recall_score, f1_score\n",
        "ps = precision_score(y, y_pred, labels = ['associate professor', 'professor'],  pos_label='associate professor')\n",
        "rs = recall_score(y, y_pred, labels = ['associate professor', 'professor'],  pos_label='associate professor')\n",
        "f1s = f1_score(y, y_pred, labels = ['associate professor', 'professor'],  pos_label='associate professor')\n",
        "print('precision score = {}'.format(ps))\n",
        "print('recall score = {}'.format(rs))\n",
        "print('F1 score = {}'.format(f1s.round(2)))"
      ],
      "metadata": {
        "colab": {
          "base_uri": "https://localhost:8080/"
        },
        "id": "a39RwNpPazn3",
        "outputId": "faf771b8-b469-44a0-a03a-6c44310aaab9"
      },
      "execution_count": null,
      "outputs": [
        {
          "output_type": "stream",
          "name": "stdout",
          "text": [
            "precision score = 0.7009345794392523\n",
            "recall score = 0.9259259259259259\n",
            "F1 score = 0.8\n"
          ]
        }
      ]
    },
    {
      "cell_type": "code",
      "source": [
        "#специфичность\n",
        "Tprof / (Tprof + Fass)"
      ],
      "metadata": {
        "colab": {
          "base_uri": "https://localhost:8080/"
        },
        "id": "BDOmtL8Za8AT",
        "outputId": "eaf15a6e-ad31-4a04-942d-057378c57a9b"
      },
      "execution_count": null,
      "outputs": [
        {
          "output_type": "execute_result",
          "data": {
            "text/plain": [
              "0.36"
            ]
          },
          "metadata": {},
          "execution_count": 35
        }
      ]
    }
  ]
}