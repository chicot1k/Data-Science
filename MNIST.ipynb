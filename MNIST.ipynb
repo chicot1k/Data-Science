{
 "cells": [
  {
   "cell_type": "code",
   "execution_count": 438,
   "metadata": {},
   "outputs": [
    {
     "name": "stdout",
     "output_type": "stream",
     "text": [
      "relevance -1.0\n",
      "relevance -2.0\n",
      "relevance -0.5\n"
     ]
    }
   ],
   "source": [
    "def relevance(q, d):\n",
    "\treturn -(q[0] - d[0])**2 - 2*((q[1] - d[1])**2)\n",
    "\n",
    "docs = [\n",
    "\t(0.0, 1.0),\n",
    "\t(1.0, 0.0),\n",
    "\t(1.0, 0.5),\n",
    "]\n",
    "\n",
    "q = (1, 1)\n",
    "\n",
    "for doc in docs:\n",
    "\tprint(\"relevance\", relevance(q, doc))\n"
   ]
  },
  {
   "cell_type": "code",
   "execution_count": 439,
   "metadata": {},
   "outputs": [
    {
     "name": "stdout",
     "output_type": "stream",
     "text": [
      "0.7346938775510203\n",
      "0.18367346938775508\n",
      "0.08163265306122448\n"
     ]
    }
   ],
   "source": [
    "def a(rank, s, n):\n",
    "\tsum = 0\n",
    "\tfor i in range(1, n+1):\n",
    "\t\tsum = sum + i**(-s)\n",
    "\tq = 1 / (rank**s * sum)\n",
    "\treturn q\n",
    "\n",
    "\n",
    "print(a(1,2,3))\n",
    "print(a(2,2,3))\n",
    "print(a(3,2,3))"
   ]
  },
  {
   "cell_type": "code",
   "execution_count": 440,
   "metadata": {},
   "outputs": [
    {
     "name": "stdout",
     "output_type": "stream",
     "text": [
      "0.8085580320712731 4.615220521841592\n",
      "4.615220521841592 1.3862943611198906\n",
      "1.3862943611198906 4.615220521841592\n",
      "0.8085580320712731 0.8615658321849085\n",
      "4.615220521841592 0.8085580320712731\n"
     ]
    }
   ],
   "source": [
    "from math import log\n",
    "\n",
    "def TBCE(y_pred, y_true=(1, 1)):\n",
    "    r = 0\n",
    "    for i in range(len(y_true)):\n",
    "        r+=BCE(y_pred[i], y_true[i])\n",
    "    return r\n",
    "\n",
    "def BCE(y_hat, y):\n",
    "    result = -y*log(y_hat)-(1-y)*log(1-y_hat)\n",
    "    return result\n",
    "\n",
    "print(TBCE([0.99, 0.45]), TBCE([0.99, 0.01]))\n",
    "print(TBCE([0.99, 0.01]), TBCE([0.5,0.5]))\n",
    "print(TBCE([0.5,0.5]), TBCE([0.99, 0.01]))\n",
    "print(TBCE([0.99,0.45]), TBCE([0.65,0.65]) )\n",
    "print(TBCE([0.99, 0.01]), TBCE([0.99, 0.45]))"
   ]
  },
  {
   "cell_type": "code",
   "execution_count": 441,
   "metadata": {},
   "outputs": [
    {
     "ename": "NameError",
     "evalue": "name 'grad' is not defined",
     "output_type": "error",
     "traceback": [
      "\u001b[0;31m---------------------------------------------------------------------------\u001b[0m",
      "\u001b[0;31mNameError\u001b[0m                                 Traceback (most recent call last)",
      "Cell \u001b[0;32mIn [441], line 13\u001b[0m\n\u001b[1;32m      9\u001b[0m x, y, w, b, c \u001b[38;5;241m=\u001b[39m sympy\u001b[38;5;241m.\u001b[39msymbols(\u001b[38;5;124m'\u001b[39m\u001b[38;5;124mx y w b c\u001b[39m\u001b[38;5;124m'\u001b[39m)\n\u001b[1;32m     11\u001b[0m res \u001b[38;5;241m=\u001b[39m sympy\u001b[38;5;241m.\u001b[39mdiff(\u001b[38;5;241m-\u001b[39my\u001b[38;5;241m*\u001b[39msympy\u001b[38;5;241m.\u001b[39mlog(\u001b[38;5;241m1\u001b[39m\u001b[38;5;241m/\u001b[39m(\u001b[38;5;241m1\u001b[39m\u001b[38;5;241m+\u001b[39msympy\u001b[38;5;241m.\u001b[39mexp(\u001b[38;5;241m-\u001b[39mw\u001b[38;5;241m*\u001b[39mx\u001b[38;5;241m-\u001b[39mb)))\u001b[38;5;241m-\u001b[39m(\u001b[38;5;241m1\u001b[39m\u001b[38;5;241m-\u001b[39my)\u001b[38;5;241m*\u001b[39msympy\u001b[38;5;241m.\u001b[39mlog(\u001b[38;5;241m1\u001b[39m\u001b[38;5;241m-\u001b[39m\u001b[38;5;241m1\u001b[39m\u001b[38;5;241m/\u001b[39m(\u001b[38;5;241m1\u001b[39m\u001b[38;5;241m+\u001b[39msympy\u001b[38;5;241m.\u001b[39mexp(\u001b[38;5;241m-\u001b[39mw\u001b[38;5;241m*\u001b[39mx\u001b[38;5;241m-\u001b[39mb)))\u001b[38;5;241m+\u001b[39mc\u001b[38;5;241m*\u001b[39m(w\u001b[38;5;241m*\u001b[39m\u001b[38;5;241m*\u001b[39m\u001b[38;5;241m2\u001b[39m\u001b[38;5;241m+\u001b[39mb\u001b[38;5;241m*\u001b[39m\u001b[38;5;241m*\u001b[39m\u001b[38;5;241m2\u001b[39m), w)\n\u001b[0;32m---> 13\u001b[0m \u001b[43mgrad\u001b[49m\u001b[38;5;241m.\u001b[39mprint(\u001b[38;5;28mstr\u001b[39m(sympy\u001b[38;5;241m.\u001b[39msimplify(res)))\n",
      "\u001b[0;31mNameError\u001b[0m: name 'grad' is not defined"
     ]
    }
   ],
   "source": [
    "import sympy.parsing.sympy_parser\n",
    "\n",
    "import sympy\n",
    "\n",
    "import math\n",
    "\n",
    " \n",
    "\n",
    "x, y, w, b, c = sympy.symbols('x y w b c')\n",
    "\n",
    "res = sympy.diff(-y*sympy.log(1/(1+sympy.exp(-w*x-b)))-(1-y)*sympy.log(1-1/(1+sympy.exp(-w*x-b)))+c*(w**2+b**2), w)\n",
    "\n",
    "grad.print(str(sympy.simplify(res)))"
   ]
  },
  {
   "cell_type": "code",
   "execution_count": 553,
   "metadata": {},
   "outputs": [
    {
     "ename": "SyntaxError",
     "evalue": "incomplete input (1921006211.py, line 1)",
     "output_type": "error",
     "traceback": [
      "\u001b[0;36m  Cell \u001b[0;32mIn [553], line 1\u001b[0;36m\u001b[0m\n\u001b[0;31m    (-y*log(1/(1+exp(-w*x-b)))-(1-y)*log(1-1/(1+exp(-w*x-b)))+c*(w**2+b**2)\u001b[0m\n\u001b[0m                                                                           ^\u001b[0m\n\u001b[0;31mSyntaxError\u001b[0m\u001b[0;31m:\u001b[0m incomplete input\n"
     ]
    }
   ],
   "source": [
    "(-y*log(1/(1+exp(-w*x-b)))-(1-y)*log(1-1/(1+exp(-w*x-b)))+c*(w**2+b**2)"
   ]
  },
  {
   "cell_type": "code",
   "execution_count": 567,
   "metadata": {},
   "outputs": [
    {
     "ename": "IndexError",
     "evalue": "list assignment index out of range",
     "output_type": "error",
     "traceback": [
      "\u001b[0;31m---------------------------------------------------------------------------\u001b[0m",
      "\u001b[0;31mIndexError\u001b[0m                                Traceback (most recent call last)",
      "Cell \u001b[0;32mIn [567], line 10\u001b[0m\n\u001b[1;32m      8\u001b[0m ab\u001b[38;5;241m=\u001b[39m[]\n\u001b[1;32m      9\u001b[0m \u001b[38;5;28;01mfor\u001b[39;00m i \u001b[38;5;129;01min\u001b[39;00m \u001b[38;5;28mrange\u001b[39m(\u001b[38;5;28mlen\u001b[39m(a)):\n\u001b[0;32m---> 10\u001b[0m     \u001b[43mab\u001b[49m\u001b[43m[\u001b[49m\u001b[43mi\u001b[49m\u001b[43m]\u001b[49m\u001b[38;5;241m=\u001b[39m \u001b[38;5;241m0\u001b[39m\n\u001b[1;32m     11\u001b[0m \u001b[38;5;28;01mfor\u001b[39;00m i \u001b[38;5;129;01min\u001b[39;00m \u001b[38;5;28mrange\u001b[39m(\u001b[38;5;28mlen\u001b[39m(a)):\n\u001b[1;32m     12\u001b[0m     \u001b[38;5;28;01mif\u001b[39;00m a[i]\u001b[38;5;241m==\u001b[39mb[i] \u001b[38;5;129;01mand\u001b[39;00m  a[i]\u001b[38;5;241m==\u001b[39m\u001b[38;5;241m1\u001b[39m \u001b[38;5;129;01mand\u001b[39;00m b[i]\u001b[38;5;241m==\u001b[39m\u001b[38;5;241m1\u001b[39m:\n",
      "\u001b[0;31mIndexError\u001b[0m: list assignment index out of range"
     ]
    }
   ],
   "source": [
    "import numpy as np\n",
    "a=[1,0,0,1,1,0,0]\n",
    "b=[1,0,0,0,1,0,0]\n",
    "suma = sum(a)\n",
    "counta = len(a)\n",
    "sumb = sum(b)\n",
    "countb = len(b)\n",
    "ab=[]\n",
    "for i in range(len(a)):\n",
    "    ab[i]= 0\n",
    "for i in range(len(a)):\n",
    "    if a[i]==b[i] and  a[i]==1 and b[i]==1:\n",
    "        ab[i] = 1\n",
    "sumab = sum(ab)\n",
    "countab = len(ab)\n",
    "pa=suma/counta\n",
    "print(pa)\n",
    "pb=sumb/countb\n",
    "print(pb)\n",
    "pab=sumab/countab\n",
    "print(pab)\n",
    "c=pab/pa*pb\n",
    "pmi=np.log(pab/(pa*pb))\n",
    "print(pmi)"
   ]
  },
  {
   "cell_type": "markdown",
   "metadata": {},
   "source": []
  }
 ],
 "metadata": {
  "kernelspec": {
   "display_name": "Python 3.10.6 64-bit",
   "language": "python",
   "name": "python3"
  },
  "language_info": {
   "codemirror_mode": {
    "name": "ipython",
    "version": 3
   },
   "file_extension": ".py",
   "mimetype": "text/x-python",
   "name": "python",
   "nbconvert_exporter": "python",
   "pygments_lexer": "ipython3",
   "version": "3.10.6"
  },
  "orig_nbformat": 4,
  "vscode": {
   "interpreter": {
    "hash": "aee8b7b246df8f9039afb4144a1f6fd8d2ca17a180786b69acc140d282b71a49"
   }
  }
 },
 "nbformat": 4,
 "nbformat_minor": 2
}
