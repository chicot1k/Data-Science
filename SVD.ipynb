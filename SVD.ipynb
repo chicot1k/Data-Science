{
  "nbformat": 4,
  "nbformat_minor": 0,
  "metadata": {
    "colab": {
      "provenance": [],
      "authorship_tag": "ABX9TyMK/htxm1wmZ8V2lwpJ6Y/x"
    },
    "kernelspec": {
      "name": "python3",
      "display_name": "Python 3"
    },
    "language_info": {
      "name": "python"
    }
  },
  "cells": [
    {
      "cell_type": "markdown",
      "source": [
        "## SVD\n",
        "Математические модели обработки сигналов\n",
        "\n",
        "Александр Янн\n",
        "\n",
        "23.М20-ПУ\n"
      ],
      "metadata": {
        "id": "ooQRH-H6QI_f"
      }
    },
    {
      "cell_type": "code",
      "execution_count": 73,
      "metadata": {
        "colab": {
          "base_uri": "https://localhost:8080/"
        },
        "id": "l0iqoeBNRnBG",
        "outputId": "fc494317-d656-43c0-92af-f73060eec193"
      },
      "outputs": [
        {
          "output_type": "stream",
          "name": "stdout",
          "text": [
            "Accuracy на исходных данных: 0.9833333333333333\n",
            "Accuracy на данных с сниженной размерностью: 0.9777777777777777\n"
          ]
        }
      ],
      "source": [
        "from sklearn.model_selection import train_test_split\n",
        "from sklearn.datasets import load_digits\n",
        "from sklearn.decomposition import TruncatedSVD\n",
        "from sklearn.neighbors import KNeighborsClassifier\n",
        "import numpy as np\n",
        "\n",
        "# Загрузка данных\n",
        "digits = load_digits(n_class=10)\n",
        "X, Y = digits.data, digits.target\n",
        "\n",
        "# Разделение данных на обучающий и тестовый наборы\n",
        "X_train, X_test, Y_train, Y_test = train_test_split(X, Y, test_size=0.2, stratify=Y, random_state=42)\n",
        "\n",
        "# SVD для снижения размерности X_train до d=11\n",
        "svd = TruncatedSVD(n_components=11, random_state=42)\n",
        "X_train_reduced = svd.fit_transform(X_train)\n",
        "\n",
        "# Применение того же преобразования к X_test\n",
        "X_test_reduced = svd.transform(X_test)\n",
        "\n",
        "# Обучение классификатора kNN на исходных данных X_train по 5 ближайшим соседям\n",
        "knn = KNeighborsClassifier(n_neighbors=5)\n",
        "knn.fit(X_train, Y_train)\n",
        "\n",
        "# Предсказание меток для X_test\n",
        "Y_pred = knn.predict(X_test)\n",
        "\n",
        "# Оценка качества классификатора на исходных данных X_test\n",
        "accuracy_original = knn.score(X_test, Y_test)\n",
        "print(\"Accuracy на исходных данных:\", accuracy_original)\n",
        "\n",
        "# Обучение классификатора kNN на данных с сниженной размерностью X_train_reduced аналогично прошлому\n",
        "knn_reduced = KNeighborsClassifier(n_neighbors=5)\n",
        "knn_reduced.fit(X_train_reduced, Y_train)\n",
        "Y_pred_red = knn_reduced.predict(X_test_reduced)\n",
        "\n",
        "# Оценка качества классификатора на данных с сниженной размерностью X_test_reduced\n",
        "accuracy_reduced = knn_reduced.score(X_test_reduced, Y_test)\n",
        "print(\"Accuracy на данных с сниженной размерностью:\", accuracy_reduced)"
      ]
    },
    {
      "cell_type": "code",
      "source": [
        "print(f'Разница accuracy между изначальными данными и данными со сниженной размерностью:{accuracy_original-accuracy_reduced}')"
      ],
      "metadata": {
        "colab": {
          "base_uri": "https://localhost:8080/"
        },
        "id": "tN60WJ6rKcVN",
        "outputId": "1828826f-6537-494c-ad69-0ba051949bed"
      },
      "execution_count": 74,
      "outputs": [
        {
          "output_type": "stream",
          "name": "stdout",
          "text": [
            "Разница accuracy между изначальными данными и данными со сниженной размерностью:0.005555555555555536\n"
          ]
        }
      ]
    },
    {
      "cell_type": "code",
      "source": [
        "fig, axes = plt.subplots(1, 2, figsize=(10, 5))\n",
        "\n",
        "axes[0].imshow(X_test_reduced[13].reshape(1,11), cmap='gray')\n",
        "axes[0].set_title(f'Predict Label: {Y_pred[13]})')\n",
        "\n",
        "axes[1].imshow(X_test[13].reshape(8, 8), cmap='gray')\n",
        "axes[1].set_title(f'Predict Label: {Y_pred_red[13]})')\n"
      ],
      "metadata": {
        "colab": {
          "base_uri": "https://localhost:8080/",
          "height": 453
        },
        "id": "lSSo2vKRHidX",
        "outputId": "97ecea12-3853-4c01-ed00-a1836d30dc42"
      },
      "execution_count": 75,
      "outputs": [
        {
          "output_type": "execute_result",
          "data": {
            "text/plain": [
              "Text(0.5, 1.0, 'Predict Label: 3)')"
            ]
          },
          "metadata": {},
          "execution_count": 75
        },
        {
          "output_type": "display_data",
          "data": {
            "text/plain": [
              "<Figure size 1000x500 with 2 Axes>"
            ],
            "image/png": "[encoded data removed]"
          },
          "metadata": {}
        }
      ]
    }
  ]
}